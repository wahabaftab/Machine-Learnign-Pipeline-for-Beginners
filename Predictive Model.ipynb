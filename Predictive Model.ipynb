{
 "cells": [
  {
   "cell_type": "markdown",
   "id": "statistical-clearance",
   "metadata": {},
   "source": [
    "# Project: Retail Returns Prediction\n"
   ]
  },
  {
   "cell_type": "markdown",
   "id": "occupational-greene",
   "metadata": {},
   "source": [
    "\n",
    "## Table of Contents\n",
    "<ul>\n",
    "<li><a href=\"#intro\">Introduction</a></li>\n",
    "<li><a href=\"#clean\">Data Cleaning & Preprocessing</a></li>\n",
    "<li><a href=\"#model\">Modelling</a></li>\n",
    "<li><a href=\"#test\">Testing Phase</a></li>\n",
    "</ul>\n",
    "\n"
   ]
  },
  {
   "cell_type": "markdown",
   "id": "tender-joseph",
   "metadata": {},
   "source": [
    "<a id='intro'></a>\n",
    "## Introduction"
   ]
  },
  {
   "cell_type": "markdown",
   "id": "exciting-amber",
   "metadata": {},
   "source": [
    "In this assesment, We've been given a task to predict wheter a customer will return a purchased item or not. We have been given a dataset of a online retailer with some features to predict the outcome. The goal is to show warning message at the time of purchase to identify if the items has chances to be returned to reduce retailer's cost budget. There are 2 datasets, one training and one for testing. We will be trainig our model on the training set comprising of 100000 rows and also doing some validations on the same set using some splits.The final output of test set is to be stored in the csv"
   ]
  },
  {
   "cell_type": "markdown",
   "id": "satisfactory-newman",
   "metadata": {},
   "source": [
    "<a id='clean'></a>\n",
    "\n",
    "## Data Cleaning & Preprocessing"
   ]
  },
  {
   "cell_type": "markdown",
   "id": "little-sudan",
   "metadata": {},
   "source": [
    "#### Pre-requisites\n",
    "\n",
    "Lets first import all the packages beforehand at one place that we will be using in this project."
   ]
  },
  {
   "cell_type": "code",
   "execution_count": 38,
   "id": "patent-saturn",
   "metadata": {},
   "outputs": [],
   "source": [
    "import pandas as pd\n",
    "import seaborn as sns\n",
    "import numpy as np\n",
    "from datetime import datetime,date\n",
    "from time import strptime\n",
    "import matplotlib.pyplot as plt\n",
    "from sklearn import preprocessing \n",
    "from sklearn.tree import DecisionTreeClassifier\n",
    "from sklearn.model_selection import train_test_split, cross_val_score, GridSearchCV\n",
    "from sklearn.preprocessing import StandardScaler\n",
    "from sklearn.metrics import accuracy_score\n",
    "from sklearn.metrics import classification_report\n",
    "from sklearn.metrics import f1_score\n",
    "from sklearn.metrics import precision_score\n",
    "from sklearn.metrics import confusion_matrix\n",
    "from sklearn.ensemble import RandomForestClassifier\n",
    "from sklearn.metrics import recall_score\n",
    "from xgboost import XGBClassifier\n",
    "from sklearn.svm import SVC\n",
    "from sklearn.linear_model import LogisticRegression, LogisticRegressionCV\n"
   ]
  },
  {
   "cell_type": "markdown",
   "id": "conventional-child",
   "metadata": {},
   "source": [
    "#### Data Inspection\n",
    "\n",
    "Here we will just read the data and see the overview of how it looks like and what type of data are we dealing with"
   ]
  },
  {
   "cell_type": "code",
   "execution_count": 39,
   "id": "controlled-beverage",
   "metadata": {},
   "outputs": [
    {
     "name": "stdout",
     "output_type": "stream",
     "text": [
      "Columns in the dataset:  14\n",
      "Rows in the dataset   :  100000\n"
     ]
    },
    {
     "data": {
      "text/html": [
       "<div>\n",
       "<style scoped>\n",
       "    .dataframe tbody tr th:only-of-type {\n",
       "        vertical-align: middle;\n",
       "    }\n",
       "\n",
       "    .dataframe tbody tr th {\n",
       "        vertical-align: top;\n",
       "    }\n",
       "\n",
       "    .dataframe thead th {\n",
       "        text-align: right;\n",
       "    }\n",
       "</style>\n",
       "<table border=\"1\" class=\"dataframe\">\n",
       "  <thead>\n",
       "    <tr style=\"text-align: right;\">\n",
       "      <th></th>\n",
       "      <th>order_item_id</th>\n",
       "      <th>order_date</th>\n",
       "      <th>delivery_date</th>\n",
       "      <th>item_id</th>\n",
       "      <th>item_size</th>\n",
       "      <th>item_color</th>\n",
       "      <th>brand_id</th>\n",
       "      <th>item_price</th>\n",
       "      <th>user_id</th>\n",
       "      <th>user_title</th>\n",
       "      <th>user_dob</th>\n",
       "      <th>user_state</th>\n",
       "      <th>user_reg_date</th>\n",
       "      <th>return</th>\n",
       "    </tr>\n",
       "  </thead>\n",
       "  <tbody>\n",
       "    <tr>\n",
       "      <th>0</th>\n",
       "      <td>1</td>\n",
       "      <td>2016-06-22</td>\n",
       "      <td>2016-06-27</td>\n",
       "      <td>643</td>\n",
       "      <td>38</td>\n",
       "      <td>navy</td>\n",
       "      <td>30</td>\n",
       "      <td>49.90</td>\n",
       "      <td>30822</td>\n",
       "      <td>Mrs</td>\n",
       "      <td>1969-04-17</td>\n",
       "      <td>Saxony</td>\n",
       "      <td>2016-06-23</td>\n",
       "      <td>0</td>\n",
       "    </tr>\n",
       "    <tr>\n",
       "      <th>1</th>\n",
       "      <td>2</td>\n",
       "      <td>2016-06-22</td>\n",
       "      <td>NaN</td>\n",
       "      <td>337</td>\n",
       "      <td>152</td>\n",
       "      <td>grey</td>\n",
       "      <td>30</td>\n",
       "      <td>19.95</td>\n",
       "      <td>30822</td>\n",
       "      <td>Mrs</td>\n",
       "      <td>1969-04-17</td>\n",
       "      <td>Saxony</td>\n",
       "      <td>2016-06-23</td>\n",
       "      <td>0</td>\n",
       "    </tr>\n",
       "    <tr>\n",
       "      <th>2</th>\n",
       "      <td>3</td>\n",
       "      <td>2016-06-22</td>\n",
       "      <td>2016-06-27</td>\n",
       "      <td>270</td>\n",
       "      <td>xxl</td>\n",
       "      <td>grey</td>\n",
       "      <td>49</td>\n",
       "      <td>79.90</td>\n",
       "      <td>30823</td>\n",
       "      <td>Mrs</td>\n",
       "      <td>1970-04-22</td>\n",
       "      <td>Baden-Wuerttemberg</td>\n",
       "      <td>2015-03-15</td>\n",
       "      <td>1</td>\n",
       "    </tr>\n",
       "    <tr>\n",
       "      <th>3</th>\n",
       "      <td>4</td>\n",
       "      <td>2016-06-22</td>\n",
       "      <td>2016-06-27</td>\n",
       "      <td>142</td>\n",
       "      <td>xxl</td>\n",
       "      <td>grey</td>\n",
       "      <td>49</td>\n",
       "      <td>99.90</td>\n",
       "      <td>30823</td>\n",
       "      <td>Mrs</td>\n",
       "      <td>1970-04-22</td>\n",
       "      <td>Baden-Wuerttemberg</td>\n",
       "      <td>2015-03-15</td>\n",
       "      <td>0</td>\n",
       "    </tr>\n",
       "    <tr>\n",
       "      <th>4</th>\n",
       "      <td>5</td>\n",
       "      <td>2016-06-22</td>\n",
       "      <td>2016-06-27</td>\n",
       "      <td>561</td>\n",
       "      <td>xxl</td>\n",
       "      <td>grey</td>\n",
       "      <td>3</td>\n",
       "      <td>14.90</td>\n",
       "      <td>30823</td>\n",
       "      <td>Mrs</td>\n",
       "      <td>1970-04-22</td>\n",
       "      <td>Baden-Wuerttemberg</td>\n",
       "      <td>2015-03-15</td>\n",
       "      <td>1</td>\n",
       "    </tr>\n",
       "  </tbody>\n",
       "</table>\n",
       "</div>"
      ],
      "text/plain": [
       "   order_item_id  order_date delivery_date  item_id item_size item_color  \\\n",
       "0              1  2016-06-22    2016-06-27      643        38       navy   \n",
       "1              2  2016-06-22           NaN      337       152       grey   \n",
       "2              3  2016-06-22    2016-06-27      270       xxl       grey   \n",
       "3              4  2016-06-22    2016-06-27      142       xxl       grey   \n",
       "4              5  2016-06-22    2016-06-27      561       xxl       grey   \n",
       "\n",
       "   brand_id  item_price  user_id user_title    user_dob          user_state  \\\n",
       "0        30       49.90    30822        Mrs  1969-04-17              Saxony   \n",
       "1        30       19.95    30822        Mrs  1969-04-17              Saxony   \n",
       "2        49       79.90    30823        Mrs  1970-04-22  Baden-Wuerttemberg   \n",
       "3        49       99.90    30823        Mrs  1970-04-22  Baden-Wuerttemberg   \n",
       "4         3       14.90    30823        Mrs  1970-04-22  Baden-Wuerttemberg   \n",
       "\n",
       "  user_reg_date  return  \n",
       "0    2016-06-23       0  \n",
       "1    2016-06-23       0  \n",
       "2    2015-03-15       1  \n",
       "3    2015-03-15       0  \n",
       "4    2015-03-15       1  "
      ]
     },
     "execution_count": 39,
     "metadata": {},
     "output_type": "execute_result"
    }
   ],
   "source": [
    "#Reading the dataset\n",
    "df=pd.read_csv(\"training_set.csv\")\n",
    "\n",
    "#finding total rows and columns\n",
    "print (\"Columns in the dataset: \", df.shape[1])\n",
    "print (\"Rows in the dataset   : \", df.shape[0])\n",
    "\n",
    "\n",
    "df.head()"
   ]
  },
  {
   "cell_type": "markdown",
   "id": "solved-emission",
   "metadata": {},
   "source": [
    "First thingto check is what kind of problem we are dealing with, What is our output variable, how many classes does it have and what is the ratio of classes"
   ]
  },
  {
   "cell_type": "code",
   "execution_count": 40,
   "id": "steady-attitude",
   "metadata": {},
   "outputs": [
    {
     "data": {
      "text/plain": [
       "0    54182\n",
       "1    45818\n",
       "Name: return, dtype: int64"
      ]
     },
     "execution_count": 40,
     "metadata": {},
     "output_type": "execute_result"
    }
   ],
   "source": [
    "df['return'].value_counts()"
   ]
  },
  {
   "cell_type": "markdown",
   "id": "double-danger",
   "metadata": {},
   "source": [
    "#### Null Values\n",
    "First need we need to check is if our data has any null/nan values, as they are destructive and cause model fitting problems.So, its best to find them early and then plan a suitable strategy to remove/mitigate/substitute them. We can easily see them using the info function of pandas along with their datatypes."
   ]
  },
  {
   "cell_type": "code",
   "execution_count": 41,
   "id": "coupled-marking",
   "metadata": {},
   "outputs": [
    {
     "name": "stdout",
     "output_type": "stream",
     "text": [
      "<class 'pandas.core.frame.DataFrame'>\n",
      "RangeIndex: 100000 entries, 0 to 99999\n",
      "Data columns (total 14 columns):\n",
      " #   Column         Non-Null Count   Dtype  \n",
      "---  ------         --------------   -----  \n",
      " 0   order_item_id  100000 non-null  int64  \n",
      " 1   order_date     100000 non-null  object \n",
      " 2   delivery_date  90682 non-null   object \n",
      " 3   item_id        100000 non-null  int64  \n",
      " 4   item_size      100000 non-null  object \n",
      " 5   item_color     100000 non-null  object \n",
      " 6   brand_id       100000 non-null  int64  \n",
      " 7   item_price     100000 non-null  float64\n",
      " 8   user_id        100000 non-null  int64  \n",
      " 9   user_title     100000 non-null  object \n",
      " 10  user_dob       91275 non-null   object \n",
      " 11  user_state     100000 non-null  object \n",
      " 12  user_reg_date  100000 non-null  object \n",
      " 13  return         100000 non-null  int64  \n",
      "dtypes: float64(1), int64(5), object(8)\n",
      "memory usage: 10.7+ MB\n"
     ]
    }
   ],
   "source": [
    "#Checking datatypes and non-null values of each column\n",
    "df.info()"
   ]
  },
  {
   "cell_type": "markdown",
   "id": "fixed-amazon",
   "metadata": {},
   "source": [
    "As we know we have 100000 rows so most of the columns have almost all values as non-null but some look like nulls, for better understanding we can look null values of each column."
   ]
  },
  {
   "cell_type": "code",
   "execution_count": 42,
   "id": "vulnerable-pantyhose",
   "metadata": {},
   "outputs": [
    {
     "data": {
      "text/plain": [
       "order_item_id       0\n",
       "order_date          0\n",
       "delivery_date    9318\n",
       "item_id             0\n",
       "item_size           0\n",
       "item_color          0\n",
       "brand_id            0\n",
       "item_price          0\n",
       "user_id             0\n",
       "user_title          0\n",
       "user_dob         8725\n",
       "user_state          0\n",
       "user_reg_date       0\n",
       "return              0\n",
       "dtype: int64"
      ]
     },
     "execution_count": 42,
     "metadata": {},
     "output_type": "execute_result"
    }
   ],
   "source": [
    "#further checking the count of null values in each column\n",
    "df.isna().sum()"
   ]
  },
  {
   "cell_type": "markdown",
   "id": "jewish-driving",
   "metadata": {},
   "source": [
    "We can see that delivery_date and user_dob have a lot of nulls, we can find % of null values of each column from code below. And we can see that 8-10% of values in these columns are null.If we remove rows then we would be at best case scenario losing 10% of data and if these values of 2 columns are not overlapping then we could lose around 18% of data, So its not recommended here that we drop these rows. Next we can do is drop columns entirely, Now since we already have not many features and these columns do look important for our target feature we can't do that either. Our last option is to replace these values with mean/median of their columns but since we can't use dates like these we have to do some feature engineering and make suitable attributes."
   ]
  },
  {
   "cell_type": "markdown",
   "id": "impaired-winter",
   "metadata": {},
   "source": [
    "#### Feature Engineering\n",
    "In this section we will make useful features out of the features that are given to us, First set of feature is user_dob, we don't have much use of this feature but we can calculate age which can be useful. Also we can also replace null/missing values with mean/median of age column for each class as both classes can have different median/means."
   ]
  },
  {
   "cell_type": "code",
   "execution_count": 43,
   "id": "bright-symposium",
   "metadata": {},
   "outputs": [],
   "source": [
    "#function to convert date to speicif format\n",
    "def __datetime(date_str):\n",
    "    \n",
    "    #for null values set dob as current date to identify them as their age will be 0\n",
    "    if date_str!=date_str:\n",
    "        date_str=str(date.today())\n",
    "\n",
    "    return datetime.strptime(date_str, '%Y-%m-%d')\n",
    "\n",
    "#subtracting dob with current date and converting to years.\n",
    "df['Age']=(__datetime(str(date.today()))-df.user_dob.apply(__datetime))/365\n",
    "df['Age']=df.Age.apply(lambda x: int(str(x).split(\" \")[0]) )"
   ]
  },
  {
   "cell_type": "code",
   "execution_count": 44,
   "id": "metric-exclusion",
   "metadata": {},
   "outputs": [
    {
     "name": "stderr",
     "output_type": "stream",
     "text": [
      "C:\\Users\\wahab.aftab\\Anaconda3\\lib\\site-packages\\ipykernel_launcher.py:5: SettingWithCopyWarning: \n",
      "A value is trying to be set on a copy of a slice from a DataFrame.\n",
      "Try using .loc[row_indexer,col_indexer] = value instead\n",
      "\n",
      "See the caveats in the documentation: https://pandas.pydata.org/pandas-docs/stable/user_guide/indexing.html#returning-a-view-versus-a-copy\n",
      "  \"\"\"\n",
      "C:\\Users\\wahab.aftab\\Anaconda3\\lib\\site-packages\\ipykernel_launcher.py:6: SettingWithCopyWarning: \n",
      "A value is trying to be set on a copy of a slice from a DataFrame.\n",
      "Try using .loc[row_indexer,col_indexer] = value instead\n",
      "\n",
      "See the caveats in the documentation: https://pandas.pydata.org/pandas-docs/stable/user_guide/indexing.html#returning-a-view-versus-a-copy\n",
      "  \n"
     ]
    }
   ],
   "source": [
    "\n",
    "#function to impute 0 values\n",
    "def imputing_age(x,y):\n",
    "    x0=x[x['return']==1] # subset comprising of return\n",
    "    x1=x[x['return']==0] # subset comprising of non-return\n",
    "    x0[y] =x0[y].map( lambda x : x0[y].median() if x == 0 else x) #replacing returns 0s with returns median\n",
    "    x1[y] =x1[y].map( lambda x : x1[y].median() if x == 0 else x) #replacing non-returns 0s with non-returns median\n",
    "    return pd.concat([x0,x1])\n",
    "\n",
    "#Imputing 0 values with median for each class\n",
    "df=imputing_age(df,'Age')\n"
   ]
  },
  {
   "cell_type": "markdown",
   "id": "adjacent-mention",
   "metadata": {},
   "source": [
    "Now that we have age we have no use of user_dob column, so we can drop that and see if Age column has any nulls."
   ]
  },
  {
   "cell_type": "code",
   "execution_count": 45,
   "id": "noticed-shark",
   "metadata": {},
   "outputs": [
    {
     "data": {
      "text/plain": [
       "order_item_id       0\n",
       "order_date          0\n",
       "delivery_date    9318\n",
       "item_id             0\n",
       "item_size           0\n",
       "item_color          0\n",
       "brand_id            0\n",
       "item_price          0\n",
       "user_id             0\n",
       "user_title          0\n",
       "user_state          0\n",
       "user_reg_date       0\n",
       "return              0\n",
       "Age                 0\n",
       "dtype: int64"
      ]
     },
     "execution_count": 45,
     "metadata": {},
     "output_type": "execute_result"
    }
   ],
   "source": [
    "df.drop(['user_dob'], axis=1,inplace=True)\n",
    "df.isna().sum()"
   ]
  },
  {
   "cell_type": "markdown",
   "id": "spoken-elements",
   "metadata": {},
   "source": [
    "We can see that we have extracted a useful feature age from user_dob and that too without null values. Now we have do similar thing to delivery date as its not useful alone but can be made useful. First thing we can do is find delivery time which is delivery_date-order_date and we can also find useful features like what is month of delivery as during holidays can have different trends and what is the day of delivery, people prefer deliveries on weekends etc."
   ]
  },
  {
   "cell_type": "code",
   "execution_count": 46,
   "id": "restricted-cooling",
   "metadata": {},
   "outputs": [],
   "source": [
    "#function to convert date to specific format and to handle null dates\n",
    "def datetime_delivery(date_str):\n",
    "    #if date is null set it to 1900-01-01 to identify it and so that difference will be less than 0\n",
    "    if date_str!=date_str:\n",
    "        date_str='1900-01-01'\n",
    "\n",
    "    return datetime.strptime(date_str, '%Y-%m-%d')\n",
    "\n",
    "def weekday(x):\n",
    "    #setting null date value to noday for weekday\n",
    "    if x!=x:\n",
    "        x='NoDay'\n",
    "    else:\n",
    "        x=datetime.strptime(x, '%Y-%m-%d').strftime('%A')\n",
    "    return x\n",
    "def month(x):\n",
    "    #setting null date value to nomonth for month\n",
    "    if x!=x:\n",
    "        x='NoMonth'\n",
    "    else:\n",
    "        x=datetime.strptime(x, '%Y-%m-%d').strftime('%B')\n",
    "    return x\n",
    "\n",
    "\n",
    "#finding differece of order and delivery date\n",
    "df['Delivery_time']=(df.delivery_date.apply(datetime_delivery)-df.order_date.apply(datetime_delivery))\n",
    "df['Delivery_time']=df.Delivery_time.apply(lambda x: int(str(x).split(\" \")[0]) )\n",
    "#finding weekday\n",
    "df['Weekday']=df.delivery_date.apply(weekday)\n",
    "#finding month\n",
    "df['Month']=df.delivery_date.apply(month)"
   ]
  },
  {
   "cell_type": "markdown",
   "id": "german-friday",
   "metadata": {},
   "source": [
    "For null values in these 3 columns we have to do different things, for delivery_Time method is the same as age. So, lets do that first, as we have identified in above function that delivery_time less 0 will be for null values, we can simply replace them."
   ]
  },
  {
   "cell_type": "code",
   "execution_count": 47,
   "id": "north-subdivision",
   "metadata": {},
   "outputs": [
    {
     "name": "stderr",
     "output_type": "stream",
     "text": [
      "C:\\Users\\wahab.aftab\\Anaconda3\\lib\\site-packages\\ipykernel_launcher.py:4: SettingWithCopyWarning: \n",
      "A value is trying to be set on a copy of a slice from a DataFrame.\n",
      "Try using .loc[row_indexer,col_indexer] = value instead\n",
      "\n",
      "See the caveats in the documentation: https://pandas.pydata.org/pandas-docs/stable/user_guide/indexing.html#returning-a-view-versus-a-copy\n",
      "  after removing the cwd from sys.path.\n",
      "C:\\Users\\wahab.aftab\\Anaconda3\\lib\\site-packages\\ipykernel_launcher.py:5: SettingWithCopyWarning: \n",
      "A value is trying to be set on a copy of a slice from a DataFrame.\n",
      "Try using .loc[row_indexer,col_indexer] = value instead\n",
      "\n",
      "See the caveats in the documentation: https://pandas.pydata.org/pandas-docs/stable/user_guide/indexing.html#returning-a-view-versus-a-copy\n",
      "  \"\"\"\n"
     ]
    }
   ],
   "source": [
    "def imputing_delivery(x,y):\n",
    "    x0=x[x['return']==1] # subset comprising of return\n",
    "    x1=x[x['return']==0] # subset comprising of non-return\n",
    "    x0[y] =x0[y].map( lambda x : x0[y].median() if x <= 0 else x) #replacing returns  delivery time less than 0 with returns median\n",
    "    x1[y] =x1[y].map( lambda x : x1[y].median() if x <= 0 else x) #replacing non-returns delivery time less than 0 with non-returns median\n",
    "    return pd.concat([x0,x1])\n",
    "#Imputing 0 values with median for each class\n",
    "df=imputing_delivery(df,'Delivery_time')"
   ]
  },
  {
   "cell_type": "markdown",
   "id": "through-bargain",
   "metadata": {},
   "source": [
    "Now lets find most count of weekday for when user return values and also for non-return values"
   ]
  },
  {
   "cell_type": "code",
   "execution_count": 48,
   "id": "sporting-background",
   "metadata": {},
   "outputs": [
    {
     "data": {
      "text/plain": [
       "(Sunday       11292\n",
       " Monday        9443\n",
       " Saturday      9368\n",
       " NoDay         9318\n",
       " Tuesday       7744\n",
       " Wednesday     6821\n",
       " Thursday       196\n",
       " Name: Weekday, dtype: int64,\n",
       " Sunday       11736\n",
       " Monday        9636\n",
       " Saturday      9375\n",
       " Tuesday       7763\n",
       " Wednesday     7108\n",
       " Thursday       200\n",
       " Name: Weekday, dtype: int64)"
      ]
     },
     "execution_count": 48,
     "metadata": {},
     "output_type": "execute_result"
    }
   ],
   "source": [
    "df['Weekday'][df['return']==0].value_counts(),df['Weekday'][df['return']==1].value_counts()\n"
   ]
  },
  {
   "cell_type": "markdown",
   "id": "immediate-occurrence",
   "metadata": {},
   "source": [
    "We can see that both classes have sunday with most counts so we can take sunday to replace NoDay computed above."
   ]
  },
  {
   "cell_type": "code",
   "execution_count": 49,
   "id": "worst-supervisor",
   "metadata": {},
   "outputs": [
    {
     "data": {
      "text/plain": [
       "Sunday       32346\n",
       "Monday       19079\n",
       "Saturday     18743\n",
       "Tuesday      15507\n",
       "Wednesday    13929\n",
       "Thursday       396\n",
       "Name: Weekday, dtype: int64"
      ]
     },
     "execution_count": 49,
     "metadata": {},
     "output_type": "execute_result"
    }
   ],
   "source": [
    "#replacing NoDay with Sunday in weekday column\n",
    "\n",
    "df['Weekday']=df['Weekday'].apply(lambda x: x if x!='NoDay' else 'Sunday')\n",
    "#Now we have replaced all NoDays with sundays\n",
    "df['Weekday'].value_counts()"
   ]
  },
  {
   "cell_type": "code",
   "execution_count": 50,
   "id": "spoken-occasion",
   "metadata": {},
   "outputs": [
    {
     "data": {
      "text/plain": [
       "(August       17843\n",
       " July         14648\n",
       " NoMonth       9318\n",
       " September     6538\n",
       " June          3630\n",
       " October       1018\n",
       " December       718\n",
       " November       468\n",
       " January          1\n",
       " Name: Month, dtype: int64,\n",
       " August       19001\n",
       " July         13844\n",
       " September     6819\n",
       " June          4123\n",
       " October       1035\n",
       " November       559\n",
       " December       435\n",
       " January          2\n",
       " Name: Month, dtype: int64)"
      ]
     },
     "execution_count": 50,
     "metadata": {},
     "output_type": "execute_result"
    }
   ],
   "source": [
    "df['Month'][df['return']==0].value_counts(),df['Month'][df['return']==1].value_counts()\n"
   ]
  },
  {
   "cell_type": "markdown",
   "id": "independent-baltimore",
   "metadata": {},
   "source": [
    "After doing similar stuff for month we can see below as August is the most busy month for both classes so simply replacing NoMonth by August will be good."
   ]
  },
  {
   "cell_type": "code",
   "execution_count": 51,
   "id": "technical-chance",
   "metadata": {},
   "outputs": [
    {
     "data": {
      "text/plain": [
       "August       46162\n",
       "July         28492\n",
       "September    13357\n",
       "June          7753\n",
       "October       2053\n",
       "December      1153\n",
       "November      1027\n",
       "January          3\n",
       "Name: Month, dtype: int64"
      ]
     },
     "execution_count": 51,
     "metadata": {},
     "output_type": "execute_result"
    }
   ],
   "source": [
    "#replacing NoMonth with August in month column\n",
    "df['Month']=df['Month'].apply(lambda x: x if x!='NoMonth' else 'August')\n",
    "#Now we have replaced all NoMonth with August\n",
    "df['Month'].value_counts()"
   ]
  },
  {
   "cell_type": "markdown",
   "id": "unnecessary-opportunity",
   "metadata": {},
   "source": [
    "we have to convert user_reg_date to a useful feature as well.It can tell us how long a user has been with the retailer so we can find age with retailer in days."
   ]
  },
  {
   "cell_type": "code",
   "execution_count": 52,
   "id": "buried-participant",
   "metadata": {},
   "outputs": [
    {
     "data": {
      "text/plain": [
       "2254    33966\n",
       "1757     1325\n",
       "1755     1064\n",
       "1756      951\n",
       "1754      821\n",
       "        ...  \n",
       "2087        4\n",
       "1943        3\n",
       "2095        2\n",
       "1944        1\n",
       "2101        1\n",
       "Name: user_Age, Length: 573, dtype: int64"
      ]
     },
     "execution_count": 52,
     "metadata": {},
     "output_type": "execute_result"
    }
   ],
   "source": [
    "#converting to suitable date format\n",
    "def __datetime_reg(date_str):\n",
    "    return datetime.strptime(date_str, '%Y-%m-%d')\n",
    "\n",
    "#subtracting registration date by current date to find days with retailer\n",
    "df['user_Age']=(__datetime_reg(str(date.today()))-df.user_reg_date.apply(__datetime_reg))\n",
    "df['user_Age']=df.user_Age.apply(lambda x: int(str(x).split(\" \")[0]) )\n",
    "df['user_Age'].value_counts()"
   ]
  },
  {
   "cell_type": "markdown",
   "id": "confidential-consolidation",
   "metadata": {},
   "source": [
    "Registraiton age is also extracted, Now ss we have fully used delivery_date,user_reg_date and order_date we don't need them anymore and we can simply drop them. Also as we have removed all null values our data is free of nulls and we can move to next step."
   ]
  },
  {
   "cell_type": "code",
   "execution_count": 53,
   "id": "noticed-procedure",
   "metadata": {},
   "outputs": [
    {
     "data": {
      "text/plain": [
       "order_item_id    0\n",
       "item_id          0\n",
       "item_size        0\n",
       "item_color       0\n",
       "brand_id         0\n",
       "item_price       0\n",
       "user_id          0\n",
       "user_title       0\n",
       "user_state       0\n",
       "return           0\n",
       "Age              0\n",
       "Delivery_time    0\n",
       "Weekday          0\n",
       "Month            0\n",
       "user_Age         0\n",
       "dtype: int64"
      ]
     },
     "execution_count": 53,
     "metadata": {},
     "output_type": "execute_result"
    }
   ],
   "source": [
    "df.drop(['order_date','delivery_date','user_reg_date'], axis=1,inplace=True)\n",
    "df.isna().sum()"
   ]
  },
  {
   "cell_type": "markdown",
   "id": "multiple-northeast",
   "metadata": {},
   "source": [
    "#### Categorical Features\n",
    "Now lets see the how many of our features are categorical. This is important because we can only use numerical data for modelling but categoricald data holds importance So we have to convert any categorical data to numerical by using techniques like One-Hot Encode or Label Encoing."
   ]
  },
  {
   "cell_type": "code",
   "execution_count": 54,
   "id": "lasting-swedish",
   "metadata": {},
   "outputs": [
    {
     "name": "stdout",
     "output_type": "stream",
     "text": [
      "Total Columns in dataset are:  ['order_item_id', 'item_id', 'item_size', 'item_color', 'brand_id', 'item_price', 'user_id', 'user_title', 'user_state', 'return', 'Age', 'Delivery_time', 'Weekday', 'Month', 'user_Age']\n",
      "Numerical Columns in dataset are:  ['order_item_id', 'item_id', 'brand_id', 'item_price', 'user_id', 'return', 'Age', 'Delivery_time', 'user_Age']\n",
      "Categorical Columns in dataset are:  ['Month', 'Weekday', 'item_size', 'item_color', 'user_title', 'user_state']\n"
     ]
    }
   ],
   "source": [
    "#getting total columns\n",
    "cols=df.columns\n",
    "print(\"Total Columns in dataset are: \",list(cols))\n",
    "\n",
    "#getting only numerical columns\n",
    "numerical_cols=df._get_numeric_data().columns\n",
    "print(\"Numerical Columns in dataset are: \",list(numerical_cols))\n",
    "\n",
    "#getting categorical columns by substracting numerical columns from total columns\n",
    "categorical_cols=set(list(cols))-set(list(numerical_cols))\n",
    "print(\"Categorical Columns in dataset are: \",list(categorical_cols))\n",
    "\n"
   ]
  },
  {
   "cell_type": "markdown",
   "id": "hourly-kernel",
   "metadata": {},
   "source": [
    "There are many categorical columns in the dataset and as model can take numerical inputs, SO we should handle these carefully. Using the context and common knowledge we can say that item_color and user_state aren't generally a factor if a person returns an item or not So we can remove them later if needed. User_title can be important as it has some information about gender of the individual.So, lets handle that"
   ]
  },
  {
   "cell_type": "code",
   "execution_count": 55,
   "id": "dense-flesh",
   "metadata": {},
   "outputs": [
    {
     "name": "stdout",
     "output_type": "stream",
     "text": [
      "Before Encoding:  ['Mrs' 'Family' 'Mr' 'Company' 'not reported']\n",
      "After Encoding:   [3 1 2 0 4]\n"
     ]
    }
   ],
   "source": [
    "le = preprocessing.LabelEncoder()\n",
    "print (\"Before Encoding: \",df['user_title'].unique())\n",
    "\n",
    "#encoding user_title to numerical values\n",
    "df['user_title'] = le.fit_transform(df.user_title.values)\n",
    "\n",
    "print (\"After Encoding:  \",df['user_title'].unique())\n"
   ]
  },
  {
   "cell_type": "markdown",
   "id": "greater-seafood",
   "metadata": {},
   "source": [
    "As you can see we have converted each string from user_title to a number that a model can understand using encoding, We could have used one-hot encoding but it would have increased feature space So label encoding is good for this. For month and weekday, we already know encoding for this and since as seen before dataset doesn't have all months and weekdays So its better to define own encoding as we might see those months/weekdays later in test or unseen data."
   ]
  },
  {
   "cell_type": "code",
   "execution_count": 56,
   "id": "capital-bicycle",
   "metadata": {},
   "outputs": [
    {
     "data": {
      "text/plain": [
       "8     46162\n",
       "7     28492\n",
       "9     13357\n",
       "6      7753\n",
       "10     2053\n",
       "12     1153\n",
       "11     1027\n",
       "1         3\n",
       "Name: Month, dtype: int64"
      ]
     },
     "execution_count": 56,
     "metadata": {},
     "output_type": "execute_result"
    }
   ],
   "source": [
    "def month_encode(x):\n",
    "    return strptime(x,'%B').tm_mon\n",
    "\n",
    "df['Month']=df.Month.apply(month_encode)\n",
    "df['Month'].value_counts()"
   ]
  },
  {
   "cell_type": "markdown",
   "id": "valuable-israel",
   "metadata": {},
   "source": [
    "We can see that we have converted all month values to numerical ones, Lets do that same for weekday."
   ]
  },
  {
   "cell_type": "code",
   "execution_count": 57,
   "id": "crucial-vitamin",
   "metadata": {},
   "outputs": [
    {
     "data": {
      "text/plain": [
       "6    32346\n",
       "0    19079\n",
       "5    18743\n",
       "1    15507\n",
       "2    13929\n",
       "3      396\n",
       "Name: Weekday, dtype: int64"
      ]
     },
     "execution_count": 57,
     "metadata": {},
     "output_type": "execute_result"
    }
   ],
   "source": [
    "def weekday_encode(x):\n",
    "    return strptime(x,'%A').tm_wday\n",
    "df['Weekday']=df.Weekday.apply(weekday_encode)\n",
    "df['Weekday'].value_counts()"
   ]
  },
  {
   "cell_type": "markdown",
   "id": "bound-pottery",
   "metadata": {},
   "source": [
    "Item_size is a tricky variable as its a mixture of both numerical and categorical values. Lets take a look."
   ]
  },
  {
   "cell_type": "code",
   "execution_count": 58,
   "id": "joined-ethiopia",
   "metadata": {
    "scrolled": true
   },
   "outputs": [
    {
     "data": {
      "text/plain": [
       "l       12347\n",
       "xl      10979\n",
       "m       10190\n",
       "xxl      8966\n",
       "40       7693\n",
       "        ...  \n",
       "49          1\n",
       "12+         1\n",
       "105         1\n",
       "4034        1\n",
       "84          1\n",
       "Name: item_size, Length: 102, dtype: int64"
      ]
     },
     "execution_count": 58,
     "metadata": {},
     "output_type": "execute_result"
    }
   ],
   "source": [
    "df['item_size'].value_counts()"
   ]
  },
  {
   "cell_type": "markdown",
   "id": "neural-links",
   "metadata": {},
   "source": [
    "As we can see that item sizes are given in numerical as well as xl,xxl,s,m denoting different sizes. Now we do know what they mean but we have no mapping for them to convert them to numbers. What we can do is see quantile of numerical values and assign these sizes those appropriate quanitles."
   ]
  },
  {
   "cell_type": "code",
   "execution_count": 59,
   "id": "prescribed-respondent",
   "metadata": {},
   "outputs": [
    {
     "data": {
      "text/plain": [
       "0.02     6.0\n",
       "0.08    10.0\n",
       "0.12    29.0\n",
       "0.30    38.0\n",
       "0.60    40.0\n",
       "0.80    42.0\n",
       "0.98    48.0\n",
       "Name: item_size_numerical, dtype: float64"
      ]
     },
     "execution_count": 59,
     "metadata": {},
     "output_type": "execute_result"
    }
   ],
   "source": [
    "def item_map(x):\n",
    "    #removing + sign from sizes\n",
    "    x=x.replace(\"+\",\"\")\n",
    "    \n",
    "    #if size is categorical replace it with nan\n",
    "    if x.isnumeric()==False:  \n",
    "        x=np.nan\n",
    "    return float(x)\n",
    "df['item_size_numerical']=df.item_size.apply(item_map)\n",
    "df.item_size_numerical.quantile([0.02,0.08,.12, .3,.6, .8,0.98])"
   ]
  },
  {
   "cell_type": "markdown",
   "id": "sweet-sessions",
   "metadata": {},
   "source": [
    "As we have 6 quantiles and we know how xl,l,s  relate to each other we can assign each category to a quanatile"
   ]
  },
  {
   "cell_type": "code",
   "execution_count": 60,
   "id": "numeric-offense",
   "metadata": {
    "scrolled": true
   },
   "outputs": [
    {
     "data": {
      "text/plain": [
       "40      24082\n",
       "38      18118\n",
       "42      14058\n",
       "29      10337\n",
       "39       6747\n",
       "        ...  \n",
       "105         1\n",
       "3634        1\n",
       "84          1\n",
       "3834        1\n",
       "3132        1\n",
       "Name: item_size_fixed, Length: 72, dtype: int64"
      ]
     },
     "execution_count": 60,
     "metadata": {},
     "output_type": "execute_result"
    }
   ],
   "source": [
    "def item_map_category(x):\n",
    "    x=x.replace(\"+\",\"\")\n",
    "    if x.isnumeric()==False:  \n",
    "        if x=='xxxl':\n",
    "            x=48\n",
    "        elif x=='xxl':\n",
    "            x=42\n",
    "        elif x=='xl':\n",
    "            x=40\n",
    "        elif x=='l':\n",
    "            x=38\n",
    "        elif x=='m':\n",
    "            x=29\n",
    "        elif x=='s':\n",
    "            x=10\n",
    "        elif x=='xs':\n",
    "            x=6\n",
    "        else: #for non-reported size we choosing mid value\n",
    "            x=40\n",
    "    return int(x)\n",
    "df['item_size_fixed']=df.item_size.apply(item_map_category)\n",
    "df.item_size_fixed.value_counts()"
   ]
  },
  {
   "cell_type": "markdown",
   "id": "according-jaguar",
   "metadata": {},
   "source": [
    "We can remove state and color as they don't look promising features, Also we have to remove features created to achieve final resutls also redundant features like order ID."
   ]
  },
  {
   "cell_type": "code",
   "execution_count": 61,
   "id": "wooden-racing",
   "metadata": {},
   "outputs": [],
   "source": [
    "df.drop(['item_color','user_state','item_size','item_size_numerical','order_item_id','user_id'], axis=1,inplace=True)"
   ]
  },
  {
   "cell_type": "markdown",
   "id": "municipal-cargo",
   "metadata": {},
   "source": [
    "Rerunning above code we can see that none of the categorical features are left now we can move towards modelling."
   ]
  },
  {
   "cell_type": "code",
   "execution_count": 62,
   "id": "stuck-music",
   "metadata": {},
   "outputs": [
    {
     "name": "stdout",
     "output_type": "stream",
     "text": [
      "Total Columns in dataset are:  ['item_id', 'brand_id', 'item_price', 'user_title', 'return', 'Age', 'Delivery_time', 'Weekday', 'Month', 'user_Age', 'item_size_fixed']\n",
      "Numerical Columns in dataset are:  ['item_id', 'brand_id', 'item_price', 'user_title', 'return', 'Age', 'Delivery_time', 'Weekday', 'Month', 'user_Age', 'item_size_fixed']\n",
      "Categorical Columns in dataset are:  []\n"
     ]
    }
   ],
   "source": [
    "#getting total columns\n",
    "cols=df.columns\n",
    "print(\"Total Columns in dataset are: \",list(cols))\n",
    "\n",
    "#getting only numerical columns\n",
    "numerical_cols=df._get_numeric_data().columns\n",
    "print(\"Numerical Columns in dataset are: \",list(numerical_cols))\n",
    "\n",
    "#getting categorical columns by substracting numerical columns from total columns\n",
    "categorical_cols=set(list(cols))-set(list(numerical_cols))\n",
    "print(\"Categorical Columns in dataset are: \",list(categorical_cols))\n",
    "\n"
   ]
  },
  {
   "cell_type": "code",
   "execution_count": 63,
   "id": "outdoor-harvard",
   "metadata": {},
   "outputs": [
    {
     "data": {
      "text/html": [
       "<div>\n",
       "<style scoped>\n",
       "    .dataframe tbody tr th:only-of-type {\n",
       "        vertical-align: middle;\n",
       "    }\n",
       "\n",
       "    .dataframe tbody tr th {\n",
       "        vertical-align: top;\n",
       "    }\n",
       "\n",
       "    .dataframe thead th {\n",
       "        text-align: right;\n",
       "    }\n",
       "</style>\n",
       "<table border=\"1\" class=\"dataframe\">\n",
       "  <thead>\n",
       "    <tr style=\"text-align: right;\">\n",
       "      <th></th>\n",
       "      <th>item_id</th>\n",
       "      <th>brand_id</th>\n",
       "      <th>item_price</th>\n",
       "      <th>user_title</th>\n",
       "      <th>return</th>\n",
       "      <th>Age</th>\n",
       "      <th>Delivery_time</th>\n",
       "      <th>Weekday</th>\n",
       "      <th>Month</th>\n",
       "      <th>user_Age</th>\n",
       "      <th>item_size_fixed</th>\n",
       "    </tr>\n",
       "  </thead>\n",
       "  <tbody>\n",
       "    <tr>\n",
       "      <th>2</th>\n",
       "      <td>270</td>\n",
       "      <td>49</td>\n",
       "      <td>79.9</td>\n",
       "      <td>3</td>\n",
       "      <td>1</td>\n",
       "      <td>51.0</td>\n",
       "      <td>5.0</td>\n",
       "      <td>0</td>\n",
       "      <td>6</td>\n",
       "      <td>2228</td>\n",
       "      <td>42</td>\n",
       "    </tr>\n",
       "    <tr>\n",
       "      <th>4</th>\n",
       "      <td>561</td>\n",
       "      <td>3</td>\n",
       "      <td>14.9</td>\n",
       "      <td>3</td>\n",
       "      <td>1</td>\n",
       "      <td>51.0</td>\n",
       "      <td>5.0</td>\n",
       "      <td>0</td>\n",
       "      <td>6</td>\n",
       "      <td>2228</td>\n",
       "      <td>42</td>\n",
       "    </tr>\n",
       "    <tr>\n",
       "      <th>5</th>\n",
       "      <td>579</td>\n",
       "      <td>3</td>\n",
       "      <td>19.9</td>\n",
       "      <td>3</td>\n",
       "      <td>1</td>\n",
       "      <td>51.0</td>\n",
       "      <td>5.0</td>\n",
       "      <td>0</td>\n",
       "      <td>6</td>\n",
       "      <td>2228</td>\n",
       "      <td>42</td>\n",
       "    </tr>\n",
       "    <tr>\n",
       "      <th>7</th>\n",
       "      <td>106</td>\n",
       "      <td>6</td>\n",
       "      <td>39.9</td>\n",
       "      <td>3</td>\n",
       "      <td>1</td>\n",
       "      <td>51.0</td>\n",
       "      <td>5.0</td>\n",
       "      <td>0</td>\n",
       "      <td>6</td>\n",
       "      <td>2228</td>\n",
       "      <td>50</td>\n",
       "    </tr>\n",
       "    <tr>\n",
       "      <th>8</th>\n",
       "      <td>195</td>\n",
       "      <td>46</td>\n",
       "      <td>13.9</td>\n",
       "      <td>3</td>\n",
       "      <td>1</td>\n",
       "      <td>51.0</td>\n",
       "      <td>5.0</td>\n",
       "      <td>0</td>\n",
       "      <td>6</td>\n",
       "      <td>2228</td>\n",
       "      <td>42</td>\n",
       "    </tr>\n",
       "  </tbody>\n",
       "</table>\n",
       "</div>"
      ],
      "text/plain": [
       "   item_id  brand_id  item_price  user_title  return   Age  Delivery_time  \\\n",
       "2      270        49        79.9           3       1  51.0            5.0   \n",
       "4      561         3        14.9           3       1  51.0            5.0   \n",
       "5      579         3        19.9           3       1  51.0            5.0   \n",
       "7      106         6        39.9           3       1  51.0            5.0   \n",
       "8      195        46        13.9           3       1  51.0            5.0   \n",
       "\n",
       "   Weekday  Month  user_Age  item_size_fixed  \n",
       "2        0      6      2228               42  \n",
       "4        0      6      2228               42  \n",
       "5        0      6      2228               42  \n",
       "7        0      6      2228               50  \n",
       "8        0      6      2228               42  "
      ]
     },
     "execution_count": 63,
     "metadata": {},
     "output_type": "execute_result"
    }
   ],
   "source": [
    "df.head()"
   ]
  },
  {
   "cell_type": "markdown",
   "id": "ordered-brick",
   "metadata": {},
   "source": [
    "## Pre modelling\n",
    "\n",
    "Before we move towards modelling we have to see if some features are identitical hence redundant or if some features have abnormal or outliers. For dependence of features we can create correlation matrix to see if they correlate with each other."
   ]
  },
  {
   "cell_type": "code",
   "execution_count": 76,
   "id": "chinese-upset",
   "metadata": {},
   "outputs": [
    {
     "data": {
      "image/png": "[encoded data removed]",
      "text/plain": [
       "<Figure size 576x432 with 2 Axes>"
      ]
     },
     "metadata": {
      "needs_background": "light"
     },
     "output_type": "display_data"
    }
   ],
   "source": [
    "#Correlation Matrix\n",
    "plt.figure(figsize=(8,6))\n",
    "corr=df.corr()\n",
    "plt.title(\"Correlation Matrix\",fontsize=\"15\")\n",
    "sns.heatmap(corr, \n",
    "            xticklabels=corr.columns.values,\n",
    "            yticklabels=corr.columns.values);"
   ]
  },
  {
   "cell_type": "markdown",
   "id": "necessary-sherman",
   "metadata": {},
   "source": [
    "We can see that none of the features are entiery depended on other features but rather different in their own way. We can also see that item_price has the lighest color with target feature meaning its one of the most important feature as expected.For outliers, we can see data distribution "
   ]
  },
  {
   "cell_type": "code",
   "execution_count": 65,
   "id": "revised-fusion",
   "metadata": {},
   "outputs": [
    {
     "data": {
      "text/html": [
       "<div>\n",
       "<style scoped>\n",
       "    .dataframe tbody tr th:only-of-type {\n",
       "        vertical-align: middle;\n",
       "    }\n",
       "\n",
       "    .dataframe tbody tr th {\n",
       "        vertical-align: top;\n",
       "    }\n",
       "\n",
       "    .dataframe thead th {\n",
       "        text-align: right;\n",
       "    }\n",
       "</style>\n",
       "<table border=\"1\" class=\"dataframe\">\n",
       "  <thead>\n",
       "    <tr style=\"text-align: right;\">\n",
       "      <th></th>\n",
       "      <th>item_id</th>\n",
       "      <th>brand_id</th>\n",
       "      <th>item_price</th>\n",
       "      <th>user_title</th>\n",
       "      <th>return</th>\n",
       "      <th>Age</th>\n",
       "      <th>Delivery_time</th>\n",
       "      <th>Weekday</th>\n",
       "      <th>Month</th>\n",
       "      <th>user_Age</th>\n",
       "      <th>item_size_fixed</th>\n",
       "    </tr>\n",
       "  </thead>\n",
       "  <tbody>\n",
       "    <tr>\n",
       "      <th>count</th>\n",
       "      <td>100000.000000</td>\n",
       "      <td>100000.000000</td>\n",
       "      <td>100000.000000</td>\n",
       "      <td>100000.000000</td>\n",
       "      <td>100000.000000</td>\n",
       "      <td>100000.000000</td>\n",
       "      <td>100000.000000</td>\n",
       "      <td>100000.000000</td>\n",
       "      <td>100000.000000</td>\n",
       "      <td>100000.000000</td>\n",
       "      <td>100000.000000</td>\n",
       "    </tr>\n",
       "    <tr>\n",
       "      <th>mean</th>\n",
       "      <td>923.781820</td>\n",
       "      <td>30.149020</td>\n",
       "      <td>65.064695</td>\n",
       "      <td>2.949870</td>\n",
       "      <td>0.458180</td>\n",
       "      <td>56.409520</td>\n",
       "      <td>6.852900</td>\n",
       "      <td>3.323440</td>\n",
       "      <td>7.811370</td>\n",
       "      <td>1998.913230</td>\n",
       "      <td>39.763690</td>\n",
       "    </tr>\n",
       "    <tr>\n",
       "      <th>std</th>\n",
       "      <td>702.568822</td>\n",
       "      <td>28.180191</td>\n",
       "      <td>47.991546</td>\n",
       "      <td>0.256627</td>\n",
       "      <td>0.498251</td>\n",
       "      <td>10.838939</td>\n",
       "      <td>12.873349</td>\n",
       "      <td>2.456214</td>\n",
       "      <td>1.026421</td>\n",
       "      <td>224.261795</td>\n",
       "      <td>108.223715</td>\n",
       "    </tr>\n",
       "    <tr>\n",
       "      <th>min</th>\n",
       "      <td>1.000000</td>\n",
       "      <td>1.000000</td>\n",
       "      <td>0.000000</td>\n",
       "      <td>0.000000</td>\n",
       "      <td>0.000000</td>\n",
       "      <td>9.000000</td>\n",
       "      <td>1.000000</td>\n",
       "      <td>0.000000</td>\n",
       "      <td>1.000000</td>\n",
       "      <td>1681.000000</td>\n",
       "      <td>1.000000</td>\n",
       "    </tr>\n",
       "    <tr>\n",
       "      <th>25%</th>\n",
       "      <td>214.000000</td>\n",
       "      <td>5.000000</td>\n",
       "      <td>29.900000</td>\n",
       "      <td>3.000000</td>\n",
       "      <td>0.000000</td>\n",
       "      <td>51.000000</td>\n",
       "      <td>2.000000</td>\n",
       "      <td>1.000000</td>\n",
       "      <td>7.000000</td>\n",
       "      <td>1760.000000</td>\n",
       "      <td>38.000000</td>\n",
       "    </tr>\n",
       "    <tr>\n",
       "      <th>50%</th>\n",
       "      <td>812.000000</td>\n",
       "      <td>25.000000</td>\n",
       "      <td>49.900000</td>\n",
       "      <td>3.000000</td>\n",
       "      <td>0.000000</td>\n",
       "      <td>55.000000</td>\n",
       "      <td>3.000000</td>\n",
       "      <td>5.000000</td>\n",
       "      <td>8.000000</td>\n",
       "      <td>1990.000000</td>\n",
       "      <td>40.000000</td>\n",
       "    </tr>\n",
       "    <tr>\n",
       "      <th>75%</th>\n",
       "      <td>1581.000000</td>\n",
       "      <td>44.000000</td>\n",
       "      <td>79.900000</td>\n",
       "      <td>3.000000</td>\n",
       "      <td>1.000000</td>\n",
       "      <td>61.000000</td>\n",
       "      <td>4.000000</td>\n",
       "      <td>6.000000</td>\n",
       "      <td>8.000000</td>\n",
       "      <td>2254.000000</td>\n",
       "      <td>41.000000</td>\n",
       "    </tr>\n",
       "    <tr>\n",
       "      <th>max</th>\n",
       "      <td>2241.000000</td>\n",
       "      <td>138.000000</td>\n",
       "      <td>999.000000</td>\n",
       "      <td>4.000000</td>\n",
       "      <td>1.000000</td>\n",
       "      <td>120.000000</td>\n",
       "      <td>173.000000</td>\n",
       "      <td>6.000000</td>\n",
       "      <td>12.000000</td>\n",
       "      <td>2254.000000</td>\n",
       "      <td>4034.000000</td>\n",
       "    </tr>\n",
       "  </tbody>\n",
       "</table>\n",
       "</div>"
      ],
      "text/plain": [
       "             item_id       brand_id     item_price     user_title  \\\n",
       "count  100000.000000  100000.000000  100000.000000  100000.000000   \n",
       "mean      923.781820      30.149020      65.064695       2.949870   \n",
       "std       702.568822      28.180191      47.991546       0.256627   \n",
       "min         1.000000       1.000000       0.000000       0.000000   \n",
       "25%       214.000000       5.000000      29.900000       3.000000   \n",
       "50%       812.000000      25.000000      49.900000       3.000000   \n",
       "75%      1581.000000      44.000000      79.900000       3.000000   \n",
       "max      2241.000000     138.000000     999.000000       4.000000   \n",
       "\n",
       "              return            Age  Delivery_time        Weekday  \\\n",
       "count  100000.000000  100000.000000  100000.000000  100000.000000   \n",
       "mean        0.458180      56.409520       6.852900       3.323440   \n",
       "std         0.498251      10.838939      12.873349       2.456214   \n",
       "min         0.000000       9.000000       1.000000       0.000000   \n",
       "25%         0.000000      51.000000       2.000000       1.000000   \n",
       "50%         0.000000      55.000000       3.000000       5.000000   \n",
       "75%         1.000000      61.000000       4.000000       6.000000   \n",
       "max         1.000000     120.000000     173.000000       6.000000   \n",
       "\n",
       "               Month       user_Age  item_size_fixed  \n",
       "count  100000.000000  100000.000000    100000.000000  \n",
       "mean        7.811370    1998.913230        39.763690  \n",
       "std         1.026421     224.261795       108.223715  \n",
       "min         1.000000    1681.000000         1.000000  \n",
       "25%         7.000000    1760.000000        38.000000  \n",
       "50%         8.000000    1990.000000        40.000000  \n",
       "75%         8.000000    2254.000000        41.000000  \n",
       "max        12.000000    2254.000000      4034.000000  "
      ]
     },
     "execution_count": 65,
     "metadata": {},
     "output_type": "execute_result"
    }
   ],
   "source": [
    "df.describe()"
   ]
  },
  {
   "cell_type": "markdown",
   "id": "dynamic-companion",
   "metadata": {},
   "source": [
    "As there are some outliers but most of the values are consistent, we can remove that if we want. But we can make models which are robust to outliers."
   ]
  },
  {
   "cell_type": "markdown",
   "id": "sophisticated-floating",
   "metadata": {},
   "source": [
    "<a id='model'></a>\n",
    "\n",
    "## Modelling\n",
    "In this phase we will be using different algorithms and different approaches to predict returns"
   ]
  },
  {
   "cell_type": "markdown",
   "id": "medium-lafayette",
   "metadata": {},
   "source": [
    "#### Data Preparation \n",
    "\n",
    "In this section we are splitting our data to train and test set, with our test set 15% of the original data. Then we are normalizing all features to 0-1 values so that our model runs fast "
   ]
  },
  {
   "cell_type": "code",
   "execution_count": 66,
   "id": "played-hostel",
   "metadata": {},
   "outputs": [],
   "source": [
    "x = df.drop(['return'],axis=1) #training features\n",
    "y = df['return'] # target variable\n",
    "X_train, X_test1, y_train, y_test= train_test_split(x, y, test_size=0.15, random_state=42)\n",
    "\n",
    "#converting to numpy array\n",
    "X_train= np.array(X_train)\n",
    "y_train = np.array(y_train)\n",
    "X_test1 = np.array(X_test1)\n",
    "y_test = np.array(y_test)\n"
   ]
  },
  {
   "cell_type": "code",
   "execution_count": 67,
   "id": "limited-seeker",
   "metadata": {},
   "outputs": [],
   "source": [
    "#normalizing features\n",
    "sc = StandardScaler()\n",
    "X_train = sc.fit_transform(X_train)\n",
    "X_test = sc.transform (X_test1)\n"
   ]
  },
  {
   "cell_type": "markdown",
   "id": "starting-asset",
   "metadata": {},
   "source": [
    "#### Training Model"
   ]
  },
  {
   "cell_type": "markdown",
   "id": "fresh-browse",
   "metadata": {},
   "source": [
    "Next step is to decide a model,  I tested the data on multiple models like decision trees, xgboost, logistic regression, SVM, Random Forest etc. Out of all these Random Forest performed best, So I used that and did some hyperparameter tuning using grid search and manual hit and trial and these are the values that I got."
   ]
  },
  {
   "cell_type": "code",
   "execution_count": 68,
   "id": "outdoor-psychology",
   "metadata": {},
   "outputs": [],
   "source": [
    "clf =RandomForestClassifier(random_state=1,n_estimators=200,class_weight='balanced',\n",
    "                    min_samples_leaf=5,\n",
    "                       min_samples_split=10)\n",
    "\n",
    "# Train Decision Tree Classifer\n",
    "clf = clf.fit(X_train,y_train)\n",
    "y_pred = clf.predict(X_test) #use the model to predict on the validation data\n",
    "\n"
   ]
  },
  {
   "cell_type": "markdown",
   "id": "accessory-genealogy",
   "metadata": {},
   "source": [
    "#### Model Evaluation\n",
    "\n",
    "Next we have to evaluate a model to see its accuracy, F1-Score,AUC and confusion matrix."
   ]
  },
  {
   "cell_type": "code",
   "execution_count": 69,
   "id": "moderate-anxiety",
   "metadata": {},
   "outputs": [
    {
     "name": "stdout",
     "output_type": "stream",
     "text": [
      "Accuracy on test  is: 0.6848\n",
      "Precision Score:  0.6352403311503768\n",
      "Recall Score:     0.743241289576406\n",
      "F1-Score : 0.6850099933377748\n"
     ]
    }
   ],
   "source": [
    "\n",
    "print(\"Accuracy on test  is:\",accuracy_score(y_test,y_pred))"
   ]
  },
  {
   "cell_type": "markdown",
   "id": "fancy-shopper",
   "metadata": {},
   "source": [
    "We can see that we are getting almost 70% accuracy and F1 score. Both are similar because the classes are nearly balanced. Its a good score considering we had not many features. We can also plot ROC curve and fine Area under the curve."
   ]
  },
  {
   "cell_type": "code",
   "execution_count": 70,
   "id": "large-architect",
   "metadata": {},
   "outputs": [
    {
     "data": {
      "image/png": "[encoded data removed]",
      "text/plain": [
       "<Figure size 576x576 with 1 Axes>"
      ]
     },
     "metadata": {
      "needs_background": "light"
     },
     "output_type": "display_data"
    }
   ],
   "source": [
    "from sklearn.metrics import roc_curve\n",
    "from sklearn.metrics import auc\n",
    "y_pred = clf.predict(X_test).ravel()\n",
    "fpr, tpr, thresholds = roc_curve(y_test, y_pred)\n",
    "auc = auc(fpr, tpr)\n",
    "plt.figure(figsize=(8,8))\n",
    "plt.plot([0, 1], [0, 1], 'k--')\n",
    "plt.plot(fpr, tpr, label='Random Forest (area = {:.3f})'.format(auc))\n",
    "\n",
    "plt.xlabel('False positive rate')\n",
    "plt.ylabel('True positive rate')\n",
    "plt.title('ROC curve')\n",
    "plt.legend(loc='best')\n",
    "plt.show()"
   ]
  },
  {
   "cell_type": "markdown",
   "id": "judicial-promotion",
   "metadata": {},
   "source": [
    "The confusion matrix can also be drawn to see true positive, true negative, false positive and false negative."
   ]
  },
  {
   "cell_type": "code",
   "execution_count": 71,
   "id": "civil-portugal",
   "metadata": {},
   "outputs": [
    {
     "name": "stdout",
     "output_type": "stream",
     "text": [
      "True Negative  :  5131\n",
      "False Positive :  2952\n",
      "False Negative :  1776\n",
      "True Positive  :  5141\n"
     ]
    },
    {
     "data": {
      "image/png": "[encoded data removed]",
      "text/plain": [
       "<Figure size 432x288 with 2 Axes>"
      ]
     },
     "metadata": {
      "needs_background": "light"
     },
     "output_type": "display_data"
    }
   ],
   "source": [
    "tn, fp, fn, tp = confusion_matrix(y_test, y_pred).ravel()\n",
    "\n",
    "cm = confusion_matrix(y_test, y_pred)\n",
    "f = sns.heatmap(cm, annot=True,cmap=\"Blues_r\", fmt='g')\n",
    "print (\"True Negative  : \",tn)\n",
    "print (\"False Positive : \",fp)\n",
    "print (\"False Negative : \",fn)\n",
    "print (\"True Positive  : \",tp)"
   ]
  },
  {
   "cell_type": "markdown",
   "id": "searching-denver",
   "metadata": {},
   "source": [
    "Next we can draw weighted matrix for cost errors as described in the document. We can do that easily."
   ]
  },
  {
   "cell_type": "code",
   "execution_count": 72,
   "id": "prospective-roots",
   "metadata": {},
   "outputs": [
    {
     "data": {
      "text/html": [
       "<div>\n",
       "<style scoped>\n",
       "    .dataframe tbody tr th:only-of-type {\n",
       "        vertical-align: middle;\n",
       "    }\n",
       "\n",
       "    .dataframe tbody tr th {\n",
       "        vertical-align: top;\n",
       "    }\n",
       "\n",
       "    .dataframe thead th {\n",
       "        text-align: right;\n",
       "    }\n",
       "</style>\n",
       "<table border=\"1\" class=\"dataframe\">\n",
       "  <thead>\n",
       "    <tr style=\"text-align: right;\">\n",
       "      <th></th>\n",
       "      <th>item_id</th>\n",
       "      <th>brand_id</th>\n",
       "      <th>item_price</th>\n",
       "      <th>user_title</th>\n",
       "      <th>Age</th>\n",
       "      <th>Delivery_time</th>\n",
       "      <th>Weekday</th>\n",
       "      <th>Month</th>\n",
       "      <th>user_Age</th>\n",
       "      <th>item_size_fixed</th>\n",
       "      <th>original</th>\n",
       "      <th>preds</th>\n",
       "    </tr>\n",
       "  </thead>\n",
       "  <tbody>\n",
       "    <tr>\n",
       "      <th>0</th>\n",
       "      <td>269.0</td>\n",
       "      <td>42.0</td>\n",
       "      <td>69.90</td>\n",
       "      <td>3.0</td>\n",
       "      <td>65.0</td>\n",
       "      <td>4.0</td>\n",
       "      <td>1.0</td>\n",
       "      <td>8.0</td>\n",
       "      <td>1718.0</td>\n",
       "      <td>29.0</td>\n",
       "      <td>0</td>\n",
       "      <td>1</td>\n",
       "    </tr>\n",
       "    <tr>\n",
       "      <th>1</th>\n",
       "      <td>2019.0</td>\n",
       "      <td>48.0</td>\n",
       "      <td>89.95</td>\n",
       "      <td>2.0</td>\n",
       "      <td>40.0</td>\n",
       "      <td>2.0</td>\n",
       "      <td>5.0</td>\n",
       "      <td>12.0</td>\n",
       "      <td>1714.0</td>\n",
       "      <td>140.0</td>\n",
       "      <td>0</td>\n",
       "      <td>0</td>\n",
       "    </tr>\n",
       "    <tr>\n",
       "      <th>2</th>\n",
       "      <td>211.0</td>\n",
       "      <td>1.0</td>\n",
       "      <td>59.90</td>\n",
       "      <td>3.0</td>\n",
       "      <td>55.0</td>\n",
       "      <td>2.0</td>\n",
       "      <td>2.0</td>\n",
       "      <td>8.0</td>\n",
       "      <td>1722.0</td>\n",
       "      <td>41.0</td>\n",
       "      <td>1</td>\n",
       "      <td>0</td>\n",
       "    </tr>\n",
       "    <tr>\n",
       "      <th>3</th>\n",
       "      <td>255.0</td>\n",
       "      <td>37.0</td>\n",
       "      <td>17.90</td>\n",
       "      <td>3.0</td>\n",
       "      <td>68.0</td>\n",
       "      <td>4.0</td>\n",
       "      <td>1.0</td>\n",
       "      <td>8.0</td>\n",
       "      <td>1771.0</td>\n",
       "      <td>10.0</td>\n",
       "      <td>0</td>\n",
       "      <td>0</td>\n",
       "    </tr>\n",
       "    <tr>\n",
       "      <th>4</th>\n",
       "      <td>1722.0</td>\n",
       "      <td>41.0</td>\n",
       "      <td>119.90</td>\n",
       "      <td>3.0</td>\n",
       "      <td>61.0</td>\n",
       "      <td>2.0</td>\n",
       "      <td>6.0</td>\n",
       "      <td>8.0</td>\n",
       "      <td>1694.0</td>\n",
       "      <td>38.0</td>\n",
       "      <td>0</td>\n",
       "      <td>0</td>\n",
       "    </tr>\n",
       "    <tr>\n",
       "      <th>...</th>\n",
       "      <td>...</td>\n",
       "      <td>...</td>\n",
       "      <td>...</td>\n",
       "      <td>...</td>\n",
       "      <td>...</td>\n",
       "      <td>...</td>\n",
       "      <td>...</td>\n",
       "      <td>...</td>\n",
       "      <td>...</td>\n",
       "      <td>...</td>\n",
       "      <td>...</td>\n",
       "      <td>...</td>\n",
       "    </tr>\n",
       "    <tr>\n",
       "      <th>14995</th>\n",
       "      <td>871.0</td>\n",
       "      <td>38.0</td>\n",
       "      <td>69.90</td>\n",
       "      <td>1.0</td>\n",
       "      <td>49.0</td>\n",
       "      <td>11.0</td>\n",
       "      <td>2.0</td>\n",
       "      <td>8.0</td>\n",
       "      <td>2223.0</td>\n",
       "      <td>38.0</td>\n",
       "      <td>1</td>\n",
       "      <td>1</td>\n",
       "    </tr>\n",
       "    <tr>\n",
       "      <th>14996</th>\n",
       "      <td>144.0</td>\n",
       "      <td>14.0</td>\n",
       "      <td>24.90</td>\n",
       "      <td>3.0</td>\n",
       "      <td>57.0</td>\n",
       "      <td>1.0</td>\n",
       "      <td>2.0</td>\n",
       "      <td>8.0</td>\n",
       "      <td>1877.0</td>\n",
       "      <td>38.0</td>\n",
       "      <td>0</td>\n",
       "      <td>1</td>\n",
       "    </tr>\n",
       "    <tr>\n",
       "      <th>14997</th>\n",
       "      <td>1592.0</td>\n",
       "      <td>3.0</td>\n",
       "      <td>49.90</td>\n",
       "      <td>3.0</td>\n",
       "      <td>67.0</td>\n",
       "      <td>3.0</td>\n",
       "      <td>6.0</td>\n",
       "      <td>9.0</td>\n",
       "      <td>2149.0</td>\n",
       "      <td>38.0</td>\n",
       "      <td>1</td>\n",
       "      <td>1</td>\n",
       "    </tr>\n",
       "    <tr>\n",
       "      <th>14998</th>\n",
       "      <td>1653.0</td>\n",
       "      <td>42.0</td>\n",
       "      <td>159.90</td>\n",
       "      <td>3.0</td>\n",
       "      <td>50.0</td>\n",
       "      <td>2.0</td>\n",
       "      <td>1.0</td>\n",
       "      <td>9.0</td>\n",
       "      <td>1688.0</td>\n",
       "      <td>42.0</td>\n",
       "      <td>1</td>\n",
       "      <td>1</td>\n",
       "    </tr>\n",
       "    <tr>\n",
       "      <th>14999</th>\n",
       "      <td>1581.0</td>\n",
       "      <td>38.0</td>\n",
       "      <td>149.90</td>\n",
       "      <td>3.0</td>\n",
       "      <td>120.0</td>\n",
       "      <td>1.0</td>\n",
       "      <td>2.0</td>\n",
       "      <td>9.0</td>\n",
       "      <td>2254.0</td>\n",
       "      <td>41.0</td>\n",
       "      <td>1</td>\n",
       "      <td>1</td>\n",
       "    </tr>\n",
       "  </tbody>\n",
       "</table>\n",
       "<p>15000 rows × 12 columns</p>\n",
       "</div>"
      ],
      "text/plain": [
       "       item_id  brand_id  item_price  user_title    Age  Delivery_time  \\\n",
       "0        269.0      42.0       69.90         3.0   65.0            4.0   \n",
       "1       2019.0      48.0       89.95         2.0   40.0            2.0   \n",
       "2        211.0       1.0       59.90         3.0   55.0            2.0   \n",
       "3        255.0      37.0       17.90         3.0   68.0            4.0   \n",
       "4       1722.0      41.0      119.90         3.0   61.0            2.0   \n",
       "...        ...       ...         ...         ...    ...            ...   \n",
       "14995    871.0      38.0       69.90         1.0   49.0           11.0   \n",
       "14996    144.0      14.0       24.90         3.0   57.0            1.0   \n",
       "14997   1592.0       3.0       49.90         3.0   67.0            3.0   \n",
       "14998   1653.0      42.0      159.90         3.0   50.0            2.0   \n",
       "14999   1581.0      38.0      149.90         3.0  120.0            1.0   \n",
       "\n",
       "       Weekday  Month  user_Age  item_size_fixed  original  preds  \n",
       "0          1.0    8.0    1718.0             29.0         0      1  \n",
       "1          5.0   12.0    1714.0            140.0         0      0  \n",
       "2          2.0    8.0    1722.0             41.0         1      0  \n",
       "3          1.0    8.0    1771.0             10.0         0      0  \n",
       "4          6.0    8.0    1694.0             38.0         0      0  \n",
       "...        ...    ...       ...              ...       ...    ...  \n",
       "14995      2.0    8.0    2223.0             38.0         1      1  \n",
       "14996      2.0    8.0    1877.0             38.0         0      1  \n",
       "14997      6.0    9.0    2149.0             38.0         1      1  \n",
       "14998      1.0    9.0    1688.0             42.0         1      1  \n",
       "14999      2.0    9.0    2254.0             41.0         1      1  \n",
       "\n",
       "[15000 rows x 12 columns]"
      ]
     },
     "execution_count": 72,
     "metadata": {},
     "output_type": "execute_result"
    }
   ],
   "source": [
    "#adding predictions to original test set\n",
    "df1  = pd.DataFrame(X_test1,columns=x.columns)\n",
    "df1['original'] = y_test\n",
    "df1['preds'] = y_pred\n",
    "df1"
   ]
  },
  {
   "cell_type": "code",
   "execution_count": 73,
   "id": "final-sheep",
   "metadata": {},
   "outputs": [],
   "source": [
    "#calculating cost\n",
    "def cost(x):\n",
    "    if x['original']==x['preds']:\n",
    "        return 0\n",
    "    elif x['original']==1 and x['preds']==0:\n",
    "        return (0.5*5)* (-(3+(0.1 * x['item_price'])))\n",
    "    elif x['original']==0 and x['preds']==1:\n",
    "        return (0.5 * x['item_price'])\n",
    "\n",
    "#calculation confusion matrix\n",
    "def confusion(x):\n",
    "    if x['original']==1 and  x['preds']==1:\n",
    "        return 'True Positive'\n",
    "    if x['original']==0 and  x['preds']==0:\n",
    "        return 'True Negative'\n",
    "    elif x['original']==1 and x['preds']==0:\n",
    "        return 'False Negative'\n",
    "    elif x['original']==0 and x['preds']==1:\n",
    "        return 'False Positive'\n",
    "    \n",
    "df1['confusion']=df1.apply(confusion, axis=1)\n",
    "df1['cost_matrix']=df1.apply(cost, axis=1)\n"
   ]
  },
  {
   "cell_type": "code",
   "execution_count": 74,
   "id": "focal-tutorial",
   "metadata": {},
   "outputs": [
    {
     "data": {
      "text/html": [
       "<div>\n",
       "<style scoped>\n",
       "    .dataframe tbody tr th:only-of-type {\n",
       "        vertical-align: middle;\n",
       "    }\n",
       "\n",
       "    .dataframe tbody tr th {\n",
       "        vertical-align: top;\n",
       "    }\n",
       "\n",
       "    .dataframe thead th {\n",
       "        text-align: right;\n",
       "    }\n",
       "</style>\n",
       "<table border=\"1\" class=\"dataframe\">\n",
       "  <thead>\n",
       "    <tr style=\"text-align: right;\">\n",
       "      <th></th>\n",
       "      <th>item_id</th>\n",
       "      <th>brand_id</th>\n",
       "      <th>item_price</th>\n",
       "      <th>user_title</th>\n",
       "      <th>Age</th>\n",
       "      <th>Delivery_time</th>\n",
       "      <th>Weekday</th>\n",
       "      <th>Month</th>\n",
       "      <th>user_Age</th>\n",
       "      <th>item_size_fixed</th>\n",
       "      <th>original</th>\n",
       "      <th>preds</th>\n",
       "      <th>confusion</th>\n",
       "      <th>cost_matrix</th>\n",
       "    </tr>\n",
       "  </thead>\n",
       "  <tbody>\n",
       "    <tr>\n",
       "      <th>0</th>\n",
       "      <td>269.0</td>\n",
       "      <td>42.0</td>\n",
       "      <td>69.90</td>\n",
       "      <td>3.0</td>\n",
       "      <td>65.0</td>\n",
       "      <td>4.0</td>\n",
       "      <td>1.0</td>\n",
       "      <td>8.0</td>\n",
       "      <td>1718.0</td>\n",
       "      <td>29.0</td>\n",
       "      <td>0</td>\n",
       "      <td>1</td>\n",
       "      <td>False Positive</td>\n",
       "      <td>34.950</td>\n",
       "    </tr>\n",
       "    <tr>\n",
       "      <th>1</th>\n",
       "      <td>2019.0</td>\n",
       "      <td>48.0</td>\n",
       "      <td>89.95</td>\n",
       "      <td>2.0</td>\n",
       "      <td>40.0</td>\n",
       "      <td>2.0</td>\n",
       "      <td>5.0</td>\n",
       "      <td>12.0</td>\n",
       "      <td>1714.0</td>\n",
       "      <td>140.0</td>\n",
       "      <td>0</td>\n",
       "      <td>0</td>\n",
       "      <td>True Negative</td>\n",
       "      <td>0.000</td>\n",
       "    </tr>\n",
       "    <tr>\n",
       "      <th>2</th>\n",
       "      <td>211.0</td>\n",
       "      <td>1.0</td>\n",
       "      <td>59.90</td>\n",
       "      <td>3.0</td>\n",
       "      <td>55.0</td>\n",
       "      <td>2.0</td>\n",
       "      <td>2.0</td>\n",
       "      <td>8.0</td>\n",
       "      <td>1722.0</td>\n",
       "      <td>41.0</td>\n",
       "      <td>1</td>\n",
       "      <td>0</td>\n",
       "      <td>False Negative</td>\n",
       "      <td>-22.475</td>\n",
       "    </tr>\n",
       "    <tr>\n",
       "      <th>3</th>\n",
       "      <td>255.0</td>\n",
       "      <td>37.0</td>\n",
       "      <td>17.90</td>\n",
       "      <td>3.0</td>\n",
       "      <td>68.0</td>\n",
       "      <td>4.0</td>\n",
       "      <td>1.0</td>\n",
       "      <td>8.0</td>\n",
       "      <td>1771.0</td>\n",
       "      <td>10.0</td>\n",
       "      <td>0</td>\n",
       "      <td>0</td>\n",
       "      <td>True Negative</td>\n",
       "      <td>0.000</td>\n",
       "    </tr>\n",
       "    <tr>\n",
       "      <th>4</th>\n",
       "      <td>1722.0</td>\n",
       "      <td>41.0</td>\n",
       "      <td>119.90</td>\n",
       "      <td>3.0</td>\n",
       "      <td>61.0</td>\n",
       "      <td>2.0</td>\n",
       "      <td>6.0</td>\n",
       "      <td>8.0</td>\n",
       "      <td>1694.0</td>\n",
       "      <td>38.0</td>\n",
       "      <td>0</td>\n",
       "      <td>0</td>\n",
       "      <td>True Negative</td>\n",
       "      <td>0.000</td>\n",
       "    </tr>\n",
       "  </tbody>\n",
       "</table>\n",
       "</div>"
      ],
      "text/plain": [
       "   item_id  brand_id  item_price  user_title   Age  Delivery_time  Weekday  \\\n",
       "0    269.0      42.0       69.90         3.0  65.0            4.0      1.0   \n",
       "1   2019.0      48.0       89.95         2.0  40.0            2.0      5.0   \n",
       "2    211.0       1.0       59.90         3.0  55.0            2.0      2.0   \n",
       "3    255.0      37.0       17.90         3.0  68.0            4.0      1.0   \n",
       "4   1722.0      41.0      119.90         3.0  61.0            2.0      6.0   \n",
       "\n",
       "   Month  user_Age  item_size_fixed  original  preds       confusion  \\\n",
       "0    8.0    1718.0             29.0         0      1  False Positive   \n",
       "1   12.0    1714.0            140.0         0      0   True Negative   \n",
       "2    8.0    1722.0             41.0         1      0  False Negative   \n",
       "3    8.0    1771.0             10.0         0      0   True Negative   \n",
       "4    8.0    1694.0             38.0         0      0   True Negative   \n",
       "\n",
       "   cost_matrix  \n",
       "0       34.950  \n",
       "1        0.000  \n",
       "2      -22.475  \n",
       "3        0.000  \n",
       "4        0.000  "
      ]
     },
     "execution_count": 74,
     "metadata": {},
     "output_type": "execute_result"
    }
   ],
   "source": [
    "df1.head()"
   ]
  },
  {
   "cell_type": "markdown",
   "id": "amber-lesson",
   "metadata": {},
   "source": [
    "Now we can see the cost_matrix column in the dataframe and see cost along with their predicted confusion class to see the cost matrix. Next we have to perform the model on test set and save results in a csv."
   ]
  },
  {
   "cell_type": "markdown",
   "id": "sticky-vietnam",
   "metadata": {},
   "source": [
    "<a id='test'></a>\n",
    "\n",
    "## Test Phase\n",
    "\n",
    "In this section we will make predictions on test data and save it in csv in required format."
   ]
  },
  {
   "cell_type": "markdown",
   "id": "straight-virus",
   "metadata": {},
   "source": [
    "#### Data Formatting\n",
    "In this phase we have to modify data first to make it same as training data, for that we have to convert dates into features like age, delivery time like before. Also we have to remove nulls and drop reduncdant columns and then normalize features for testing. I will do all that in 1 step as its what we have done before. Also since we don't have return column in test set so we will be imputing for whole set and not for each class"
   ]
  },
  {
   "cell_type": "code",
   "execution_count": 77,
   "id": "pleased-saint",
   "metadata": {},
   "outputs": [
    {
     "data": {
      "text/html": [
       "<div>\n",
       "<style scoped>\n",
       "    .dataframe tbody tr th:only-of-type {\n",
       "        vertical-align: middle;\n",
       "    }\n",
       "\n",
       "    .dataframe tbody tr th {\n",
       "        vertical-align: top;\n",
       "    }\n",
       "\n",
       "    .dataframe thead th {\n",
       "        text-align: right;\n",
       "    }\n",
       "</style>\n",
       "<table border=\"1\" class=\"dataframe\">\n",
       "  <thead>\n",
       "    <tr style=\"text-align: right;\">\n",
       "      <th></th>\n",
       "      <th>order_item_id</th>\n",
       "      <th>Predictions</th>\n",
       "    </tr>\n",
       "  </thead>\n",
       "  <tbody>\n",
       "    <tr>\n",
       "      <th>0</th>\n",
       "      <td>100001</td>\n",
       "      <td>1</td>\n",
       "    </tr>\n",
       "    <tr>\n",
       "      <th>1</th>\n",
       "      <td>100002</td>\n",
       "      <td>1</td>\n",
       "    </tr>\n",
       "    <tr>\n",
       "      <th>2</th>\n",
       "      <td>100003</td>\n",
       "      <td>1</td>\n",
       "    </tr>\n",
       "    <tr>\n",
       "      <th>3</th>\n",
       "      <td>100004</td>\n",
       "      <td>0</td>\n",
       "    </tr>\n",
       "    <tr>\n",
       "      <th>4</th>\n",
       "      <td>100005</td>\n",
       "      <td>0</td>\n",
       "    </tr>\n",
       "  </tbody>\n",
       "</table>\n",
       "</div>"
      ],
      "text/plain": [
       "   order_item_id  Predictions\n",
       "0         100001            1\n",
       "1         100002            1\n",
       "2         100003            1\n",
       "3         100004            0\n",
       "4         100005            0"
      ]
     },
     "execution_count": 77,
     "metadata": {},
     "output_type": "execute_result"
    }
   ],
   "source": [
    "#reading test dataset\n",
    "df_test=pd.read_csv(\"test_set.csv\")\n",
    "\n",
    "\n",
    "#function to convert date to speicif format\n",
    "def __datetime(date_str):\n",
    "    \n",
    "    #for null values set dob as current date to identify them as their age will be 0\n",
    "    if date_str!=date_str:\n",
    "        date_str=str(date.today())\n",
    "\n",
    "    return datetime.strptime(date_str, '%Y-%m-%d')\n",
    "\n",
    "#subtracting dob with current date and converting to years.\n",
    "df_test['Age']=(__datetime(str(date.today()))-df_test.user_dob.apply(__datetime))/365\n",
    "df_test['Age']=df_test.Age.apply(lambda x: int(str(x).split(\" \")[0]) )\n",
    "\n",
    "#function to impute 0 values\n",
    "def imputing_age(i,y):\n",
    "    i[y] =i[y].map( lambda x : i[y].median() if x == 0 else x) \n",
    "    return i\n",
    "\n",
    "#Imputing 0 values with median for each class\n",
    "df_test=imputing_age(df_test,'Age')\n",
    "\n",
    "df_test.drop(['user_dob'], axis=1,inplace=True)\n",
    "\n",
    "\n",
    "#function to convert date to specific format and to handle null dates\n",
    "def datetime_delivery(date_str):\n",
    "    #if date is null set it to 1900-01-01 to identify it and so that difference will be less than 0\n",
    "    if date_str!=date_str:\n",
    "        date_str='1900-01-01'\n",
    "\n",
    "    return datetime.strptime(date_str, '%Y-%m-%d')\n",
    "\n",
    "def weekday(x):\n",
    "    #setting null date value to noday for weekday\n",
    "    if x!=x:\n",
    "        x='NoDay'\n",
    "    else:\n",
    "        x=datetime.strptime(x, '%Y-%m-%d').strftime('%A')\n",
    "    return x\n",
    "def month(x):\n",
    "    #setting null date value to nomonth for month\n",
    "    if x!=x:\n",
    "        x='NoMonth'\n",
    "    else:\n",
    "        x=datetime.strptime(x, '%Y-%m-%d').strftime('%B')\n",
    "    return x\n",
    "\n",
    "\n",
    "#finding differece of order and delivery date\n",
    "df_test['Delivery_time']=(df_test.delivery_date.apply(datetime_delivery)-df_test.order_date.apply(datetime_delivery))\n",
    "df_test['Delivery_time']=df_test.Delivery_time.apply(lambda x: int(str(x).split(\" \")[0]) )\n",
    "#finding weekday\n",
    "df_test['Weekday']=df_test.delivery_date.apply(weekday)\n",
    "#finding month\n",
    "df_test['Month']=df_test.delivery_date.apply(month)\n",
    "\n",
    "\n",
    "def imputing_delivery(i,y):\n",
    "    i[y] =i[y].map( lambda x : i[y].median() if x <= 0 else x)\n",
    "    return i\n",
    "\n",
    "#Imputing 0 values with median for each class\n",
    "df_test=imputing_delivery(df_test,'Delivery_time')\n",
    "\n",
    "\n",
    "#replacing NoDay with Sunday in weekday column\n",
    "df_test['Weekday']=df_test['Weekday'].apply(lambda x: x if x!='NoDay' else 'Sunday')\n",
    "\n",
    "\n",
    "#replacing NoMonth with August in month column\n",
    "df_test['Month']=df_test['Month'].apply(lambda x: x if x!='NoMonth' else 'August')\n",
    "\n",
    "\n",
    "#converting to suitable date format\n",
    "def __datetime_reg(date_str):\n",
    "    return datetime.strptime(date_str, '%Y-%m-%d')\n",
    "\n",
    "#subtracting registration date by current date to find days with retailer\n",
    "df_test['user_Age']=(__datetime_reg(str(date.today()))-df_test.user_reg_date.apply(__datetime_reg))\n",
    "df_test['user_Age']=df_test.user_Age.apply(lambda x: int(str(x).split(\" \")[0]) )\n",
    "\n",
    "df_test.drop(['order_date','delivery_date','user_reg_date'], axis=1,inplace=True)\n",
    "\n",
    "\n",
    "df_test['user_title'] = le.transform(df_test.user_title.values)\n",
    "\n",
    "\n",
    "def month_encode(x):\n",
    "    return strptime(x,'%B').tm_mon\n",
    "\n",
    "df_test['Month']=df_test.Month.apply(month_encode)\n",
    "\n",
    "def weekday_encode(x):\n",
    "    return strptime(x,'%A').tm_wday\n",
    "\n",
    "df_test['Weekday']=df_test.Weekday.apply(weekday_encode)\n",
    "\n",
    "def item_map_category(x):\n",
    "    x=x.replace(\"+\",\"\")\n",
    "    if x.isnumeric()==False:  \n",
    "        if x=='xxxl':\n",
    "            x=48\n",
    "        elif x=='xxl':\n",
    "            x=42\n",
    "        elif x=='xl':\n",
    "            x=40\n",
    "        elif x=='l':\n",
    "            x=38\n",
    "        elif x=='m':\n",
    "            x=29\n",
    "        elif x=='s':\n",
    "            x=10\n",
    "        elif x=='xs':\n",
    "            x=6\n",
    "        else: #for non-reported size we choosing mid value\n",
    "            x=40\n",
    "    return int(x)\n",
    "df_test['item_size_fixed']=df_test.item_size.apply(item_map_category)\n",
    "\n",
    "#Final DF to attach predicitons to\n",
    "Final_DF = df_test.loc[:, ['order_item_id']] # target variable\n",
    "\n",
    "df_test.drop(['item_color','user_state','item_size','order_item_id','user_id'], axis=1,inplace=True)\n",
    "\n",
    "#converting to numpy array\n",
    "df_test_normalized= np.array(df_test)\n",
    "df_test_normalized = sc.transform (df_test_normalized)\n",
    "\n",
    "\n",
    "#Prediciton\n",
    "Final_Prediction = clf.predict(df_test_normalized) #use the DT model to predict on the validation data\n",
    "\n",
    "Final_DF['Predictions']=Final_Prediction\n",
    "\n",
    "Final_DF.head()"
   ]
  },
  {
   "cell_type": "markdown",
   "id": "miniature-stranger",
   "metadata": {},
   "source": [
    "#### Saving Results\n",
    "Now our results are ready, we can save them to a text file in csv format as described in the document."
   ]
  },
  {
   "cell_type": "code",
   "execution_count": 78,
   "id": "knowing-filter",
   "metadata": {},
   "outputs": [],
   "source": [
    "Final_DF.to_csv(\"Results.txt\",index=False)"
   ]
  },
  {
   "cell_type": "code",
   "execution_count": null,
   "id": "adjacent-vegetable",
   "metadata": {},
   "outputs": [],
   "source": []
  }
 ],
 "metadata": {
  "kernelspec": {
   "display_name": "Python 3",
   "language": "python",
   "name": "python3"
  },
  "language_info": {
   "codemirror_mode": {
    "name": "ipython",
    "version": 3
   },
   "file_extension": ".py",
   "mimetype": "text/x-python",
   "name": "python",
   "nbconvert_exporter": "python",
   "pygments_lexer": "ipython3",
   "version": "3.7.10"
  }
 },
 "nbformat": 4,
 "nbformat_minor": 5
}
